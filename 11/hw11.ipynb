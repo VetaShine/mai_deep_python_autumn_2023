{
 "cells": [
  {
   "cell_type": "code",
   "execution_count": 79,
   "metadata": {},
   "outputs": [],
   "source": [
    "import time\n",
    "from random import choice\n",
    "import weakref\n",
    "import cProfile, pstats, io\n",
    "\n",
    "\n",
    "class Student:\n",
    "    def __init__(self, student_name=None, gpa=None, faculty=None, course=None):\n",
    "        self.name = Name(self, student_name)\n",
    "        self.assessment = Assessment(self, gpa)\n",
    "        self.studies = Information(self, faculty, course)\n",
    "\n",
    "        \n",
    "class Name:\n",
    "    def __init__(self, student, student_name):\n",
    "        self.student = student\n",
    "        self.student_name = student_name\n",
    "\n",
    "        \n",
    "class Assessment:\n",
    "    def __init__(self, student, gpa):\n",
    "        self.student = student\n",
    "        self.gpa = gpa\n",
    "\n",
    "\n",
    "class Information:\n",
    "    def __init__(self, student, faculty, course):\n",
    "        self.student = student\n",
    "        self.faculty = faculty\n",
    "        self.course = course"
   ]
  },
  {
   "cell_type": "code",
   "execution_count": 80,
   "metadata": {},
   "outputs": [],
   "source": [
    "class StudentSlots:\n",
    "    __slots__ = (\"name\", \"assessment\", \"studies\")\n",
    "\n",
    "    def __init__(self, student_name=None, gpa=None, faculty=None, course=None):\n",
    "        self.name = Name(self, student_name)\n",
    "        self.assessment = Assessment(self, gpa)\n",
    "        self.studies = Information(self, faculty, course)\n",
    "\n",
    "        \n",
    "class NameSlots:\n",
    "    __slots__ = (\"student\", \"student_name\")\n",
    "\n",
    "    def __init__(self, student, student_name):\n",
    "        self.student = student\n",
    "        self.student_name = student_name\n",
    "\n",
    "        \n",
    "class AssessmentSlots:\n",
    "    __slots__ = (\"student\", \"gpa\")\n",
    "\n",
    "    def __init__(self, student, gpa):\n",
    "        self.student = student\n",
    "        self.gpa = gpa\n",
    "\n",
    "\n",
    "class InformationSlots:\n",
    "    __slots__ = (\"student\", \"course\", \"faculty\")\n",
    "\n",
    "    def __init__(self, student, course, faculty):\n",
    "        self.student = student\n",
    "        self.faculty = faculty\n",
    "        self.course = course"
   ]
  },
  {
   "cell_type": "code",
   "execution_count": 81,
   "metadata": {},
   "outputs": [],
   "source": [
    "class StudentWeakref:\n",
    "    def __init__(self, student_name=None, gpa=None, faculty=None, course=None):\n",
    "        self.name = Name(self, student_name)\n",
    "        self.assessment = Assessment(self, gpa)\n",
    "        self.studies = Information(self, faculty, course)\n",
    "\n",
    "        \n",
    "class NameWeakref:\n",
    "    def __init__(self, student, student_name):\n",
    "        self.student = weakref.ref(student)\n",
    "        self.student_name = student_name\n",
    "\n",
    "        \n",
    "class AssessmentWeakref:\n",
    "    def __init__(self, student, gpa):\n",
    "        self.student = weakref.ref(student)\n",
    "        self.gpa = gpa\n",
    "\n",
    "\n",
    "class InformationWeakref:\n",
    "    def __init__(self, student, faculty, course):\n",
    "        self.student = weakref.ref(student)\n",
    "        self.faculty = faculty\n",
    "        self.course = course"
   ]
  },
  {
   "cell_type": "code",
   "execution_count": 82,
   "metadata": {},
   "outputs": [],
   "source": [
    "NAMES = [\"Минеева\", \"Журавлев\", \"Катин\", \"Русаков\", \"Куликова\", \"Меркулов\", \"Шукайло\", \"Куликова\", \"Арбузов\", \"Павлов\"]\n",
    "ASSESSMENTS = [\"5.0\", \"4.6\", \"4.7\", \"3.4\", \"4.0\", \"3.6\", \"3.7\", \"4.4\", \"3.0\", \"4.1\", \"4.9\", \"3.1\"]\n",
    "STUDIES = [\"Прикладная математика\", \"Прикладная математика и информатика\", \"Графический дизайн\", \"Экономика\", \"Юриспруденция\", \"\", \"Дирижирование\", \"История\", \"Культурология\"]\n",
    "\n",
    "\n",
    "def random_word(words):\n",
    "    return choice(words)"
   ]
  },
  {
   "cell_type": "code",
   "execution_count": 83,
   "metadata": {},
   "outputs": [],
   "source": [
    "N = 1_000_000\n",
    "\n",
    "\n",
    "names = [random_word(NAMES) for i in range(N)]\n",
    "assessments = [random_word(ASSESSMENTS) for i in range(N)]\n",
    "studies = [random_word(STUDIES) for i in range(N)]"
   ]
  },
  {
   "cell_type": "code",
   "execution_count": 84,
   "metadata": {},
   "outputs": [],
   "source": [
    "def simple_class(N):\n",
    "    students = [Student(names[i], assessments[i], studies[i]) for i in range(N)]\n",
    "    return students\n",
    "\n",
    "\n",
    "def slots_class(N):\n",
    "    students_slots = [StudentSlots(names[i], assessments[i], studies[i]) for i in range(N)]\n",
    "    return students_slots\n",
    "\n",
    "    \n",
    "def weakref_class(N):\n",
    "    students_weakref = [StudentWeakref(names[i], assessments[i], studies[i]) for i in range(N)]\n",
    "    return students_weakref"
   ]
  },
  {
   "cell_type": "code",
   "execution_count": 85,
   "metadata": {},
   "outputs": [
    {
     "name": "stdout",
     "output_type": "stream",
     "text": [
      "CPU times: user 5.87 s, sys: 2.76 s, total: 8.63 s\n",
      "Wall time: 10.6 s\n"
     ]
    }
   ],
   "source": [
    "%%time\n",
    "\n",
    "students = simple_class(N)"
   ]
  },
  {
   "cell_type": "code",
   "execution_count": 86,
   "metadata": {},
   "outputs": [
    {
     "name": "stdout",
     "output_type": "stream",
     "text": [
      "CPU times: user 3.64 s, sys: 240 ms, total: 3.88 s\n",
      "Wall time: 4.32 s\n"
     ]
    }
   ],
   "source": [
    "%%time\n",
    "\n",
    "students_slots = slots_class(N)"
   ]
  },
  {
   "cell_type": "code",
   "execution_count": 87,
   "metadata": {},
   "outputs": [
    {
     "name": "stdout",
     "output_type": "stream",
     "text": [
      "CPU times: user 3.77 s, sys: 270 ms, total: 4.04 s\n",
      "Wall time: 4.62 s\n"
     ]
    }
   ],
   "source": [
    "%%time\n",
    "\n",
    "students_weakref = weakref_class(N)"
   ]
  },
  {
   "cell_type": "code",
   "execution_count": 88,
   "metadata": {},
   "outputs": [],
   "source": [
    "def simple_class_get(N):\n",
    "    for i in range(N):\n",
    "        y = students[i].assessment.gpa\n",
    "\n",
    "\n",
    "def slots_class_get(N):\n",
    "    for i in range(N):\n",
    "        y = students_slots[i].assessment.gpa\n",
    "\n",
    "\n",
    "def weakref_class_get(N):\n",
    "    for i in range(N):\n",
    "        y = students_weakref[i].assessment.gpa"
   ]
  },
  {
   "cell_type": "code",
   "execution_count": 89,
   "metadata": {},
   "outputs": [],
   "source": [
    "def simple_class_change(N):\n",
    "    for i in range(N):\n",
    "        students[i].assessment.gpa += \" for 2022\"\n",
    "        \n",
    "\n",
    "def slots_class_change(N):\n",
    "    for i in range(N):\n",
    "        students_slots[i].assessment.gpa += \" for 2022\"\n",
    "\n",
    "\n",
    "def weakref_class_change(N):\n",
    "    for i in range(N):\n",
    "        students_weakref[i].assessment.gpa += \" for 2022\""
   ]
  },
  {
   "cell_type": "code",
   "execution_count": 90,
   "metadata": {},
   "outputs": [],
   "source": [
    "def simple_class_del(N):\n",
    "    for i in range(N):\n",
    "        del students[i].assessment.gpa\n",
    "        \n",
    "\n",
    "def slots_class_del(N):\n",
    "    for i in range(N):\n",
    "        del students_slots[i].assessment.gpa\n",
    "        \n",
    "        \n",
    "def weakref_class_del(N):\n",
    "    for i in range(N):\n",
    "        del students_weakref[i].assessment.gpa"
   ]
  },
  {
   "cell_type": "code",
   "execution_count": 91,
   "metadata": {},
   "outputs": [
    {
     "name": "stdout",
     "output_type": "stream",
     "text": [
      "CPU times: user 111 ms, sys: 6.09 ms, total: 117 ms\n",
      "Wall time: 144 ms\n"
     ]
    }
   ],
   "source": [
    "%%time\n",
    "\n",
    "simple_class_get(N)"
   ]
  },
  {
   "cell_type": "code",
   "execution_count": 92,
   "metadata": {},
   "outputs": [
    {
     "name": "stdout",
     "output_type": "stream",
     "text": [
      "CPU times: user 96.8 ms, sys: 5.86 ms, total: 103 ms\n",
      "Wall time: 121 ms\n"
     ]
    }
   ],
   "source": [
    "%%time\n",
    "\n",
    "slots_class_get(N)"
   ]
  },
  {
   "cell_type": "code",
   "execution_count": 93,
   "metadata": {},
   "outputs": [
    {
     "name": "stdout",
     "output_type": "stream",
     "text": [
      "CPU times: user 108 ms, sys: 4.45 ms, total: 113 ms\n",
      "Wall time: 140 ms\n"
     ]
    }
   ],
   "source": [
    "%%time\n",
    "\n",
    "weakref_class_get(N)"
   ]
  },
  {
   "cell_type": "code",
   "execution_count": 94,
   "metadata": {},
   "outputs": [
    {
     "name": "stdout",
     "output_type": "stream",
     "text": [
      "CPU times: user 209 ms, sys: 43.1 ms, total: 252 ms\n",
      "Wall time: 388 ms\n"
     ]
    }
   ],
   "source": [
    "%%time\n",
    "\n",
    "simple_class_change(N)"
   ]
  },
  {
   "cell_type": "code",
   "execution_count": 95,
   "metadata": {},
   "outputs": [
    {
     "name": "stdout",
     "output_type": "stream",
     "text": [
      "CPU times: user 149 ms, sys: 26.9 ms, total: 176 ms\n",
      "Wall time: 227 ms\n"
     ]
    }
   ],
   "source": [
    "%%time\n",
    "\n",
    "slots_class_change(N)"
   ]
  },
  {
   "cell_type": "code",
   "execution_count": 25,
   "metadata": {},
   "outputs": [
    {
     "name": "stdout",
     "output_type": "stream",
     "text": [
      "CPU times: user 179 ms, sys: 29 ms, total: 208 ms\n",
      "Wall time: 226 ms\n"
     ]
    }
   ],
   "source": [
    "%%time\n",
    "\n",
    "weakref_class_change(N)"
   ]
  },
  {
   "cell_type": "code",
   "execution_count": 64,
   "metadata": {},
   "outputs": [
    {
     "name": "stdout",
     "output_type": "stream",
     "text": [
      "CPU times: user 147 ms, sys: 11.3 ms, total: 158 ms\n",
      "Wall time: 221 ms\n"
     ]
    }
   ],
   "source": [
    "%%time\n",
    "\n",
    "simple_class_del(N)"
   ]
  },
  {
   "cell_type": "code",
   "execution_count": 65,
   "metadata": {},
   "outputs": [
    {
     "name": "stdout",
     "output_type": "stream",
     "text": [
      "CPU times: user 128 ms, sys: 10.2 ms, total: 139 ms\n",
      "Wall time: 195 ms\n"
     ]
    }
   ],
   "source": [
    "%%time\n",
    "\n",
    "slots_class_del(N)"
   ]
  },
  {
   "cell_type": "code",
   "execution_count": 66,
   "metadata": {},
   "outputs": [
    {
     "name": "stdout",
     "output_type": "stream",
     "text": [
      "CPU times: user 135 ms, sys: 11.9 ms, total: 147 ms\n",
      "Wall time: 212 ms\n"
     ]
    }
   ],
   "source": [
    "%%time\n",
    "\n",
    "weakref_class_del(N)"
   ]
  },
  {
   "cell_type": "code",
   "execution_count": 96,
   "metadata": {},
   "outputs": [],
   "source": [
    "def profile_deco(func):\n",
    "    prof = cProfile.Profile()\n",
    "    stats = io.StringIO()\n",
    "    counter = 0\n",
    "    \n",
    "    def wrapper(*args, **kwargs):\n",
    "        nonlocal counter, stats, prof\n",
    "        counter += 1\n",
    "        print(f\"Число вызовов функции {func.__name__} =\", counter)\n",
    "        prof.enable()\n",
    "        result = func(*args, **kwargs)\n",
    "        prof.disable()\n",
    "        return result\n",
    "    \n",
    "    def print_statisctic():\n",
    "        sortby = 'cumulative'\n",
    "        ps = pstats.Stats(prof, stream=stats).sort_stats(sortby)\n",
    "        ps.print_stats()\n",
    "        print(stats.getvalue())\n",
    "\n",
    "    wrapper.print_stat = print_statisctic\n",
    "    return wrapper"
   ]
  },
  {
   "cell_type": "code",
   "execution_count": 97,
   "metadata": {},
   "outputs": [],
   "source": [
    "@profile_deco\n",
    "def simple_class(N):\n",
    "    students = [Student(names[i], assessments[i], studies[i]) for i in range(N)]\n",
    "    \n",
    "@profile_deco\n",
    "def slots_class(N):\n",
    "    students = [Student(names[i], assessments[i], studies[i]) for i in range(N)]\n",
    "    \n",
    "@profile_deco\n",
    "def weakref_class(N):\n",
    "    students = [Student(names[i], assessments[i], studies[i]) for i in range(N)]"
   ]
  },
  {
   "cell_type": "code",
   "execution_count": 98,
   "metadata": {},
   "outputs": [
    {
     "name": "stdout",
     "output_type": "stream",
     "text": [
      "Число вызовов функции slots_class = 1\n",
      "Число вызовов функции slots_class = 2\n",
      "Число вызовов функции slots_class = 3\n",
      "Число вызовов функции slots_class = 4\n",
      "Число вызовов функции slots_class = 5\n",
      "         120447 function calls in 0.216 seconds\n",
      "\n",
      "   Ordered by: cumulative time\n",
      "\n",
      "   ncalls  tottime  percall  cumtime  percall filename:lineno(function)\n",
      "        5    0.000    0.000    0.216    0.043 /var/folders/wb/wgm5x_yj0gd4p4k65fd10vbm0000gn/T/ipykernel_1378/1845869518.py:5(slots_class)\n",
      "        5    0.044    0.009    0.216    0.043 /var/folders/wb/wgm5x_yj0gd4p4k65fd10vbm0000gn/T/ipykernel_1378/1845869518.py:7(<listcomp>)\n",
      "    30108    0.127    0.000    0.172    0.000 /var/folders/wb/wgm5x_yj0gd4p4k65fd10vbm0000gn/T/ipykernel_1378/1798677909.py:8(__init__)\n",
      "    30108    0.016    0.000    0.016    0.000 /var/folders/wb/wgm5x_yj0gd4p4k65fd10vbm0000gn/T/ipykernel_1378/1798677909.py:27(__init__)\n",
      "    30108    0.016    0.000    0.016    0.000 /var/folders/wb/wgm5x_yj0gd4p4k65fd10vbm0000gn/T/ipykernel_1378/1798677909.py:15(__init__)\n",
      "    30108    0.013    0.000    0.013    0.000 /var/folders/wb/wgm5x_yj0gd4p4k65fd10vbm0000gn/T/ipykernel_1378/1798677909.py:21(__init__)\n",
      "        5    0.000    0.000    0.000    0.000 {method 'disable' of '_lsprof.Profiler' objects}\n",
      "\n",
      "\n",
      "\n"
     ]
    }
   ],
   "source": [
    "slots_class(9999)\n",
    "slots_class(9999)\n",
    "slots_class(100)\n",
    "slots_class(10)\n",
    "slots_class(10000)\n",
    "slots_class.print_stat()"
   ]
  },
  {
   "cell_type": "code",
   "execution_count": 99,
   "metadata": {},
   "outputs": [
    {
     "name": "stdout",
     "output_type": "stream",
     "text": [
      "Число вызовов функции simple_class = 1\n",
      "         4000003 function calls in 6.166 seconds\n",
      "\n",
      "   Ordered by: cumulative time\n",
      "\n",
      "   ncalls  tottime  percall  cumtime  percall filename:lineno(function)\n",
      "        1    0.000    0.000    6.166    6.166 /var/folders/wb/wgm5x_yj0gd4p4k65fd10vbm0000gn/T/ipykernel_1378/1845869518.py:1(simple_class)\n",
      "        1    0.813    0.813    6.166    6.166 /var/folders/wb/wgm5x_yj0gd4p4k65fd10vbm0000gn/T/ipykernel_1378/1845869518.py:3(<listcomp>)\n",
      "  1000000    4.464    0.000    5.354    0.000 /var/folders/wb/wgm5x_yj0gd4p4k65fd10vbm0000gn/T/ipykernel_1378/1798677909.py:8(__init__)\n",
      "  1000000    0.335    0.000    0.335    0.000 /var/folders/wb/wgm5x_yj0gd4p4k65fd10vbm0000gn/T/ipykernel_1378/1798677909.py:27(__init__)\n",
      "  1000000    0.278    0.000    0.278    0.000 /var/folders/wb/wgm5x_yj0gd4p4k65fd10vbm0000gn/T/ipykernel_1378/1798677909.py:15(__init__)\n",
      "  1000000    0.277    0.000    0.277    0.000 /var/folders/wb/wgm5x_yj0gd4p4k65fd10vbm0000gn/T/ipykernel_1378/1798677909.py:21(__init__)\n",
      "        1    0.000    0.000    0.000    0.000 {method 'disable' of '_lsprof.Profiler' objects}\n",
      "\n",
      "\n",
      "\n"
     ]
    }
   ],
   "source": [
    "simple_class(N)\n",
    "simple_class.print_stat()"
   ]
  },
  {
   "cell_type": "code",
   "execution_count": 100,
   "metadata": {},
   "outputs": [
    {
     "name": "stdout",
     "output_type": "stream",
     "text": [
      "Число вызовов функции slots_class = 6\n",
      "         120447 function calls in 0.216 seconds\n",
      "\n",
      "   Ordered by: cumulative time\n",
      "\n",
      "   ncalls  tottime  percall  cumtime  percall filename:lineno(function)\n",
      "        5    0.000    0.000    0.216    0.043 /var/folders/wb/wgm5x_yj0gd4p4k65fd10vbm0000gn/T/ipykernel_1378/1845869518.py:5(slots_class)\n",
      "        5    0.044    0.009    0.216    0.043 /var/folders/wb/wgm5x_yj0gd4p4k65fd10vbm0000gn/T/ipykernel_1378/1845869518.py:7(<listcomp>)\n",
      "    30108    0.127    0.000    0.172    0.000 /var/folders/wb/wgm5x_yj0gd4p4k65fd10vbm0000gn/T/ipykernel_1378/1798677909.py:8(__init__)\n",
      "    30108    0.016    0.000    0.016    0.000 /var/folders/wb/wgm5x_yj0gd4p4k65fd10vbm0000gn/T/ipykernel_1378/1798677909.py:27(__init__)\n",
      "    30108    0.016    0.000    0.016    0.000 /var/folders/wb/wgm5x_yj0gd4p4k65fd10vbm0000gn/T/ipykernel_1378/1798677909.py:15(__init__)\n",
      "    30108    0.013    0.000    0.013    0.000 /var/folders/wb/wgm5x_yj0gd4p4k65fd10vbm0000gn/T/ipykernel_1378/1798677909.py:21(__init__)\n",
      "        5    0.000    0.000    0.000    0.000 {method 'disable' of '_lsprof.Profiler' objects}\n",
      "\n",
      "\n",
      "         4120450 function calls in 8.997 seconds\n",
      "\n",
      "   Ordered by: cumulative time\n",
      "\n",
      "   ncalls  tottime  percall  cumtime  percall filename:lineno(function)\n",
      "        6    0.000    0.000    8.997    1.500 /var/folders/wb/wgm5x_yj0gd4p4k65fd10vbm0000gn/T/ipykernel_1378/1845869518.py:5(slots_class)\n",
      "        6    0.918    0.153    8.997    1.500 /var/folders/wb/wgm5x_yj0gd4p4k65fd10vbm0000gn/T/ipykernel_1378/1845869518.py:7(<listcomp>)\n",
      "  1030108    7.068    0.000    8.080    0.000 /var/folders/wb/wgm5x_yj0gd4p4k65fd10vbm0000gn/T/ipykernel_1378/1798677909.py:8(__init__)\n",
      "  1030108    0.370    0.000    0.370    0.000 /var/folders/wb/wgm5x_yj0gd4p4k65fd10vbm0000gn/T/ipykernel_1378/1798677909.py:27(__init__)\n",
      "  1030108    0.325    0.000    0.325    0.000 /var/folders/wb/wgm5x_yj0gd4p4k65fd10vbm0000gn/T/ipykernel_1378/1798677909.py:21(__init__)\n",
      "  1030108    0.316    0.000    0.316    0.000 /var/folders/wb/wgm5x_yj0gd4p4k65fd10vbm0000gn/T/ipykernel_1378/1798677909.py:15(__init__)\n",
      "        6    0.000    0.000    0.000    0.000 {method 'disable' of '_lsprof.Profiler' objects}\n",
      "\n",
      "\n",
      "\n"
     ]
    }
   ],
   "source": [
    "slots_class(N)\n",
    "slots_class.print_stat()"
   ]
  },
  {
   "cell_type": "code",
   "execution_count": 102,
   "metadata": {},
   "outputs": [
    {
     "name": "stdout",
     "output_type": "stream",
     "text": [
      "Число вызовов функции weakref_class = 2\n",
      "         4000003 function calls in 6.006 seconds\n",
      "\n",
      "   Ordered by: cumulative time\n",
      "\n",
      "   ncalls  tottime  percall  cumtime  percall filename:lineno(function)\n",
      "        1    0.000    0.000    6.006    6.006 /var/folders/wb/wgm5x_yj0gd4p4k65fd10vbm0000gn/T/ipykernel_1378/1845869518.py:9(weakref_class)\n",
      "        1    0.808    0.808    6.006    6.006 /var/folders/wb/wgm5x_yj0gd4p4k65fd10vbm0000gn/T/ipykernel_1378/1845869518.py:11(<listcomp>)\n",
      "  1000000    4.329    0.000    5.198    0.000 /var/folders/wb/wgm5x_yj0gd4p4k65fd10vbm0000gn/T/ipykernel_1378/1798677909.py:8(__init__)\n",
      "  1000000    0.324    0.000    0.324    0.000 /var/folders/wb/wgm5x_yj0gd4p4k65fd10vbm0000gn/T/ipykernel_1378/1798677909.py:27(__init__)\n",
      "  1000000    0.275    0.000    0.275    0.000 /var/folders/wb/wgm5x_yj0gd4p4k65fd10vbm0000gn/T/ipykernel_1378/1798677909.py:15(__init__)\n",
      "  1000000    0.271    0.000    0.271    0.000 /var/folders/wb/wgm5x_yj0gd4p4k65fd10vbm0000gn/T/ipykernel_1378/1798677909.py:21(__init__)\n",
      "        1    0.000    0.000    0.000    0.000 {method 'disable' of '_lsprof.Profiler' objects}\n",
      "\n",
      "\n",
      "         8000006 function calls in 14.133 seconds\n",
      "\n",
      "   Ordered by: cumulative time\n",
      "\n",
      "   ncalls  tottime  percall  cumtime  percall filename:lineno(function)\n",
      "        2    0.000    0.000   14.133    7.067 /var/folders/wb/wgm5x_yj0gd4p4k65fd10vbm0000gn/T/ipykernel_1378/1845869518.py:9(weakref_class)\n",
      "        2    1.944    0.972   14.133    7.067 /var/folders/wb/wgm5x_yj0gd4p4k65fd10vbm0000gn/T/ipykernel_1378/1845869518.py:11(<listcomp>)\n",
      "  2000000   10.140    0.000   12.189    0.000 /var/folders/wb/wgm5x_yj0gd4p4k65fd10vbm0000gn/T/ipykernel_1378/1798677909.py:8(__init__)\n",
      "  2000000    0.756    0.000    0.756    0.000 /var/folders/wb/wgm5x_yj0gd4p4k65fd10vbm0000gn/T/ipykernel_1378/1798677909.py:27(__init__)\n",
      "  2000000    0.654    0.000    0.654    0.000 /var/folders/wb/wgm5x_yj0gd4p4k65fd10vbm0000gn/T/ipykernel_1378/1798677909.py:15(__init__)\n",
      "  2000000    0.640    0.000    0.640    0.000 /var/folders/wb/wgm5x_yj0gd4p4k65fd10vbm0000gn/T/ipykernel_1378/1798677909.py:21(__init__)\n",
      "        2    0.000    0.000    0.000    0.000 {method 'disable' of '_lsprof.Profiler' objects}\n",
      "\n",
      "\n",
      "\n"
     ]
    }
   ],
   "source": [
    "weakref_class(N)\n",
    "weakref_class.print_stat()"
   ]
  },
  {
   "cell_type": "code",
   "execution_count": 103,
   "metadata": {},
   "outputs": [],
   "source": [
    "@profile_deco\n",
    "def simple_class_get(N):\n",
    "    for i in range(N):\n",
    "        y = students[i].assessment.gpa\n",
    "\n",
    "@profile_deco\n",
    "def slots_class_get(N):\n",
    "    for i in range(N):\n",
    "        y = students_slots[i].assessment.gpa\n",
    "\n",
    "@profile_deco\n",
    "def weakref_class_get(N):\n",
    "    for i in range(N):\n",
    "        y = students_weakref[i].assessment.gpa"
   ]
  },
  {
   "cell_type": "code",
   "execution_count": 104,
   "metadata": {},
   "outputs": [
    {
     "name": "stdout",
     "output_type": "stream",
     "text": [
      "Число вызовов функции simple_class_get = 1\n",
      "Число вызовов функции simple_class_get = 2\n",
      "Число вызовов функции simple_class_get = 3\n",
      "Число вызовов функции simple_class_get = 4\n",
      "Число вызовов функции simple_class_get = 5\n",
      "Число вызовов функции simple_class_get = 6\n",
      "Число вызовов функции simple_class_get = 7\n",
      "Число вызовов функции simple_class_get = 8\n",
      "Число вызовов функции simple_class_get = 9\n",
      "Число вызовов функции simple_class_get = 10\n",
      "Число вызовов функции simple_class_get = 11\n",
      "Число вызовов функции simple_class_get = 12\n",
      "Число вызовов функции simple_class_get = 13\n",
      "Число вызовов функции simple_class_get = 14\n",
      "Число вызовов функции simple_class_get = 15\n",
      "Число вызовов функции simple_class_get = 16\n",
      "Число вызовов функции simple_class_get = 17\n",
      "Число вызовов функции simple_class_get = 18\n",
      "Число вызовов функции simple_class_get = 19\n",
      "Число вызовов функции simple_class_get = 20\n",
      "Число вызовов функции simple_class_get = 21\n",
      "Число вызовов функции simple_class_get = 22\n",
      "Число вызовов функции simple_class_get = 23\n",
      "Число вызовов функции simple_class_get = 24\n",
      "Число вызовов функции simple_class_get = 25\n",
      "Число вызовов функции simple_class_get = 26\n",
      "Число вызовов функции simple_class_get = 27\n",
      "Число вызовов функции simple_class_get = 28\n",
      "Число вызовов функции simple_class_get = 29\n",
      "Число вызовов функции simple_class_get = 30\n",
      "Число вызовов функции simple_class_get = 31\n",
      "Число вызовов функции simple_class_get = 32\n",
      "Число вызовов функции simple_class_get = 33\n",
      "Число вызовов функции simple_class_get = 34\n",
      "Число вызовов функции simple_class_get = 35\n",
      "Число вызовов функции simple_class_get = 36\n",
      "Число вызовов функции simple_class_get = 37\n",
      "Число вызовов функции simple_class_get = 38\n",
      "Число вызовов функции simple_class_get = 39\n",
      "Число вызовов функции simple_class_get = 40\n",
      "Число вызовов функции simple_class_get = 41\n",
      "Число вызовов функции simple_class_get = 42\n",
      "Число вызовов функции simple_class_get = 43\n",
      "Число вызовов функции simple_class_get = 44\n",
      "Число вызовов функции simple_class_get = 45\n",
      "Число вызовов функции simple_class_get = 46\n",
      "Число вызовов функции simple_class_get = 47\n",
      "Число вызовов функции simple_class_get = 48\n",
      "Число вызовов функции simple_class_get = 49\n",
      "Число вызовов функции simple_class_get = 50\n",
      "Число вызовов функции simple_class_get = 51\n",
      "Число вызовов функции simple_class_get = 52\n",
      "Число вызовов функции simple_class_get = 53\n",
      "Число вызовов функции simple_class_get = 54\n",
      "Число вызовов функции simple_class_get = 55\n",
      "Число вызовов функции simple_class_get = 56\n",
      "Число вызовов функции simple_class_get = 57\n",
      "Число вызовов функции simple_class_get = 58\n",
      "Число вызовов функции simple_class_get = 59\n",
      "Число вызовов функции simple_class_get = 60\n",
      "Число вызовов функции simple_class_get = 61\n",
      "Число вызовов функции simple_class_get = 62\n",
      "Число вызовов функции simple_class_get = 63\n",
      "Число вызовов функции simple_class_get = 64\n",
      "Число вызовов функции simple_class_get = 65\n",
      "Число вызовов функции simple_class_get = 66\n",
      "Число вызовов функции simple_class_get = 67\n",
      "Число вызовов функции simple_class_get = 68\n",
      "Число вызовов функции simple_class_get = 69\n",
      "Число вызовов функции simple_class_get = 70\n",
      "Число вызовов функции simple_class_get = 71\n",
      "Число вызовов функции simple_class_get = 72\n",
      "Число вызовов функции simple_class_get = 73\n",
      "Число вызовов функции simple_class_get = 74\n",
      "Число вызовов функции simple_class_get = 75\n",
      "Число вызовов функции simple_class_get = 76\n",
      "Число вызовов функции simple_class_get = 77\n",
      "Число вызовов функции simple_class_get = 78\n",
      "Число вызовов функции simple_class_get = 79\n",
      "Число вызовов функции simple_class_get = 80\n",
      "Число вызовов функции simple_class_get = 81\n",
      "Число вызовов функции simple_class_get = 82\n",
      "Число вызовов функции simple_class_get = 83\n",
      "Число вызовов функции simple_class_get = 84\n",
      "Число вызовов функции simple_class_get = 85\n",
      "Число вызовов функции simple_class_get = 86\n",
      "Число вызовов функции simple_class_get = 87\n",
      "Число вызовов функции simple_class_get = 88\n",
      "Число вызовов функции simple_class_get = 89\n",
      "Число вызовов функции simple_class_get = 90\n",
      "Число вызовов функции simple_class_get = 91\n",
      "Число вызовов функции simple_class_get = 92\n",
      "Число вызовов функции simple_class_get = 93\n",
      "Число вызовов функции simple_class_get = 94\n",
      "Число вызовов функции simple_class_get = 95\n",
      "Число вызовов функции simple_class_get = 96\n",
      "Число вызовов функции simple_class_get = 97\n",
      "Число вызовов функции simple_class_get = 98\n",
      "Число вызовов функции simple_class_get = 99\n",
      "Число вызовов функции simple_class_get = 100\n",
      "         200 function calls in 22.639 seconds\n",
      "\n",
      "   Ordered by: cumulative time\n",
      "\n",
      "   ncalls  tottime  percall  cumtime  percall filename:lineno(function)\n",
      "      100   22.639    0.226   22.639    0.226 /var/folders/wb/wgm5x_yj0gd4p4k65fd10vbm0000gn/T/ipykernel_1378/2554180713.py:1(simple_class_get)\n",
      "      100    0.000    0.000    0.000    0.000 {method 'disable' of '_lsprof.Profiler' objects}\n",
      "\n",
      "\n",
      "\n"
     ]
    }
   ],
   "source": [
    "for _ in range(100):\n",
    "    simple_class_get(N)\n",
    "simple_class_get.print_stat()"
   ]
  },
  {
   "cell_type": "code",
   "execution_count": 105,
   "metadata": {},
   "outputs": [
    {
     "name": "stdout",
     "output_type": "stream",
     "text": [
      "Число вызовов функции slots_class_get = 1\n",
      "Число вызовов функции slots_class_get = 2\n",
      "Число вызовов функции slots_class_get = 3\n",
      "Число вызовов функции slots_class_get = 4\n",
      "Число вызовов функции slots_class_get = 5\n",
      "Число вызовов функции slots_class_get = 6\n",
      "Число вызовов функции slots_class_get = 7\n",
      "Число вызовов функции slots_class_get = 8\n",
      "Число вызовов функции slots_class_get = 9\n",
      "Число вызовов функции slots_class_get = 10\n",
      "Число вызовов функции slots_class_get = 11\n",
      "Число вызовов функции slots_class_get = 12\n",
      "Число вызовов функции slots_class_get = 13\n",
      "Число вызовов функции slots_class_get = 14\n",
      "Число вызовов функции slots_class_get = 15\n",
      "Число вызовов функции slots_class_get = 16\n",
      "Число вызовов функции slots_class_get = 17\n",
      "Число вызовов функции slots_class_get = 18\n",
      "Число вызовов функции slots_class_get = 19\n",
      "Число вызовов функции slots_class_get = 20\n",
      "Число вызовов функции slots_class_get = 21\n",
      "Число вызовов функции slots_class_get = 22\n",
      "Число вызовов функции slots_class_get = 23\n",
      "Число вызовов функции slots_class_get = 24\n",
      "Число вызовов функции slots_class_get = 25\n",
      "Число вызовов функции slots_class_get = 26\n",
      "Число вызовов функции slots_class_get = 27\n",
      "Число вызовов функции slots_class_get = 28\n",
      "Число вызовов функции slots_class_get = 29\n",
      "Число вызовов функции slots_class_get = 30\n",
      "Число вызовов функции slots_class_get = 31\n",
      "Число вызовов функции slots_class_get = 32\n",
      "Число вызовов функции slots_class_get = 33\n",
      "Число вызовов функции slots_class_get = 34\n",
      "Число вызовов функции slots_class_get = 35\n",
      "Число вызовов функции slots_class_get = 36\n",
      "Число вызовов функции slots_class_get = 37\n",
      "Число вызовов функции slots_class_get = 38\n",
      "Число вызовов функции slots_class_get = 39\n",
      "Число вызовов функции slots_class_get = 40\n",
      "Число вызовов функции slots_class_get = 41\n",
      "Число вызовов функции slots_class_get = 42\n",
      "Число вызовов функции slots_class_get = 43\n",
      "Число вызовов функции slots_class_get = 44\n",
      "Число вызовов функции slots_class_get = 45\n",
      "Число вызовов функции slots_class_get = 46\n",
      "Число вызовов функции slots_class_get = 47\n",
      "Число вызовов функции slots_class_get = 48\n",
      "Число вызовов функции slots_class_get = 49\n",
      "Число вызовов функции slots_class_get = 50\n",
      "Число вызовов функции slots_class_get = 51\n",
      "Число вызовов функции slots_class_get = 52\n",
      "Число вызовов функции slots_class_get = 53\n",
      "Число вызовов функции slots_class_get = 54\n",
      "Число вызовов функции slots_class_get = 55\n",
      "Число вызовов функции slots_class_get = 56\n",
      "Число вызовов функции slots_class_get = 57\n",
      "Число вызовов функции slots_class_get = 58\n",
      "Число вызовов функции slots_class_get = 59\n",
      "Число вызовов функции slots_class_get = 60\n",
      "Число вызовов функции slots_class_get = 61\n",
      "Число вызовов функции slots_class_get = 62\n",
      "Число вызовов функции slots_class_get = 63\n",
      "Число вызовов функции slots_class_get = 64\n",
      "Число вызовов функции slots_class_get = 65\n",
      "Число вызовов функции slots_class_get = 66\n",
      "Число вызовов функции slots_class_get = 67\n",
      "Число вызовов функции slots_class_get = 68\n",
      "Число вызовов функции slots_class_get = 69\n",
      "Число вызовов функции slots_class_get = 70\n",
      "Число вызовов функции slots_class_get = 71\n",
      "Число вызовов функции slots_class_get = 72\n",
      "Число вызовов функции slots_class_get = 73\n",
      "Число вызовов функции slots_class_get = 74\n",
      "Число вызовов функции slots_class_get = 75\n",
      "Число вызовов функции slots_class_get = 76\n",
      "Число вызовов функции slots_class_get = 77\n",
      "Число вызовов функции slots_class_get = 78\n",
      "Число вызовов функции slots_class_get = 79\n",
      "Число вызовов функции slots_class_get = 80\n",
      "Число вызовов функции slots_class_get = 81\n",
      "Число вызовов функции slots_class_get = 82\n",
      "Число вызовов функции slots_class_get = 83\n",
      "Число вызовов функции slots_class_get = 84\n",
      "Число вызовов функции slots_class_get = 85\n",
      "Число вызовов функции slots_class_get = 86\n",
      "Число вызовов функции slots_class_get = 87\n",
      "Число вызовов функции slots_class_get = 88\n",
      "Число вызовов функции slots_class_get = 89\n",
      "Число вызовов функции slots_class_get = 90\n",
      "Число вызовов функции slots_class_get = 91\n",
      "Число вызовов функции slots_class_get = 92\n",
      "Число вызовов функции slots_class_get = 93\n",
      "Число вызовов функции slots_class_get = 94\n",
      "Число вызовов функции slots_class_get = 95\n",
      "Число вызовов функции slots_class_get = 96\n",
      "Число вызовов функции slots_class_get = 97\n",
      "Число вызовов функции slots_class_get = 98\n",
      "Число вызовов функции slots_class_get = 99\n",
      "Число вызовов функции slots_class_get = 100\n",
      "         200 function calls in 21.157 seconds\n",
      "\n",
      "   Ordered by: cumulative time\n",
      "\n",
      "   ncalls  tottime  percall  cumtime  percall filename:lineno(function)\n",
      "      100   21.157    0.212   21.157    0.212 /var/folders/wb/wgm5x_yj0gd4p4k65fd10vbm0000gn/T/ipykernel_1378/2554180713.py:6(slots_class_get)\n",
      "      100    0.000    0.000    0.000    0.000 {method 'disable' of '_lsprof.Profiler' objects}\n",
      "\n",
      "\n",
      "\n"
     ]
    }
   ],
   "source": [
    "for _ in range(100):\n",
    "    slots_class_get(N)\n",
    "slots_class_get.print_stat()"
   ]
  },
  {
   "cell_type": "code",
   "execution_count": 106,
   "metadata": {},
   "outputs": [
    {
     "name": "stdout",
     "output_type": "stream",
     "text": [
      "Число вызовов функции weakref_class_get = 1\n",
      "Число вызовов функции weakref_class_get = 2\n",
      "Число вызовов функции weakref_class_get = 3\n",
      "Число вызовов функции weakref_class_get = 4\n",
      "Число вызовов функции weakref_class_get = 5\n",
      "Число вызовов функции weakref_class_get = 6\n",
      "Число вызовов функции weakref_class_get = 7\n",
      "Число вызовов функции weakref_class_get = 8\n",
      "Число вызовов функции weakref_class_get = 9\n",
      "Число вызовов функции weakref_class_get = 10\n",
      "Число вызовов функции weakref_class_get = 11\n",
      "Число вызовов функции weakref_class_get = 12\n",
      "Число вызовов функции weakref_class_get = 13\n",
      "Число вызовов функции weakref_class_get = 14\n",
      "Число вызовов функции weakref_class_get = 15\n",
      "Число вызовов функции weakref_class_get = 16\n",
      "Число вызовов функции weakref_class_get = 17\n",
      "Число вызовов функции weakref_class_get = 18\n",
      "Число вызовов функции weakref_class_get = 19\n",
      "Число вызовов функции weakref_class_get = 20\n",
      "Число вызовов функции weakref_class_get = 21\n",
      "Число вызовов функции weakref_class_get = 22\n",
      "Число вызовов функции weakref_class_get = 23\n",
      "Число вызовов функции weakref_class_get = 24\n",
      "Число вызовов функции weakref_class_get = 25\n",
      "Число вызовов функции weakref_class_get = 26\n",
      "Число вызовов функции weakref_class_get = 27\n",
      "Число вызовов функции weakref_class_get = 28\n",
      "Число вызовов функции weakref_class_get = 29\n",
      "Число вызовов функции weakref_class_get = 30\n",
      "Число вызовов функции weakref_class_get = 31\n",
      "Число вызовов функции weakref_class_get = 32\n",
      "Число вызовов функции weakref_class_get = 33\n",
      "Число вызовов функции weakref_class_get = 34\n",
      "Число вызовов функции weakref_class_get = 35\n",
      "Число вызовов функции weakref_class_get = 36\n",
      "Число вызовов функции weakref_class_get = 37\n",
      "Число вызовов функции weakref_class_get = 38\n",
      "Число вызовов функции weakref_class_get = 39\n",
      "Число вызовов функции weakref_class_get = 40\n",
      "Число вызовов функции weakref_class_get = 41\n",
      "Число вызовов функции weakref_class_get = 42\n",
      "Число вызовов функции weakref_class_get = 43\n",
      "Число вызовов функции weakref_class_get = 44\n",
      "Число вызовов функции weakref_class_get = 45\n",
      "Число вызовов функции weakref_class_get = 46\n",
      "Число вызовов функции weakref_class_get = 47\n",
      "Число вызовов функции weakref_class_get = 48\n",
      "Число вызовов функции weakref_class_get = 49\n",
      "Число вызовов функции weakref_class_get = 50\n",
      "Число вызовов функции weakref_class_get = 51\n",
      "Число вызовов функции weakref_class_get = 52\n",
      "Число вызовов функции weakref_class_get = 53\n",
      "Число вызовов функции weakref_class_get = 54\n",
      "Число вызовов функции weakref_class_get = 55\n",
      "Число вызовов функции weakref_class_get = 56\n",
      "Число вызовов функции weakref_class_get = 57\n",
      "Число вызовов функции weakref_class_get = 58\n",
      "Число вызовов функции weakref_class_get = 59\n",
      "Число вызовов функции weakref_class_get = 60\n",
      "Число вызовов функции weakref_class_get = 61\n",
      "Число вызовов функции weakref_class_get = 62\n",
      "Число вызовов функции weakref_class_get = 63\n",
      "Число вызовов функции weakref_class_get = 64\n",
      "Число вызовов функции weakref_class_get = 65\n",
      "Число вызовов функции weakref_class_get = 66\n",
      "Число вызовов функции weakref_class_get = 67\n",
      "Число вызовов функции weakref_class_get = 68\n",
      "Число вызовов функции weakref_class_get = 69\n",
      "Число вызовов функции weakref_class_get = 70\n",
      "Число вызовов функции weakref_class_get = 71\n",
      "Число вызовов функции weakref_class_get = 72\n",
      "Число вызовов функции weakref_class_get = 73\n",
      "Число вызовов функции weakref_class_get = 74\n",
      "Число вызовов функции weakref_class_get = 75\n",
      "Число вызовов функции weakref_class_get = 76\n",
      "Число вызовов функции weakref_class_get = 77\n",
      "Число вызовов функции weakref_class_get = 78\n",
      "Число вызовов функции weakref_class_get = 79\n",
      "Число вызовов функции weakref_class_get = 80\n",
      "Число вызовов функции weakref_class_get = 81\n",
      "Число вызовов функции weakref_class_get = 82\n",
      "Число вызовов функции weakref_class_get = 83\n",
      "Число вызовов функции weakref_class_get = 84\n",
      "Число вызовов функции weakref_class_get = 85\n",
      "Число вызовов функции weakref_class_get = 86\n",
      "Число вызовов функции weakref_class_get = 87\n",
      "Число вызовов функции weakref_class_get = 88\n",
      "Число вызовов функции weakref_class_get = 89\n",
      "Число вызовов функции weakref_class_get = 90\n",
      "Число вызовов функции weakref_class_get = 91\n",
      "Число вызовов функции weakref_class_get = 92\n",
      "Число вызовов функции weakref_class_get = 93\n",
      "Число вызовов функции weakref_class_get = 94\n",
      "Число вызовов функции weakref_class_get = 95\n",
      "Число вызовов функции weakref_class_get = 96\n",
      "Число вызовов функции weakref_class_get = 97\n",
      "Число вызовов функции weakref_class_get = 98\n",
      "Число вызовов функции weakref_class_get = 99\n",
      "Число вызовов функции weakref_class_get = 100\n",
      "         200 function calls in 20.893 seconds\n",
      "\n",
      "   Ordered by: cumulative time\n",
      "\n",
      "   ncalls  tottime  percall  cumtime  percall filename:lineno(function)\n",
      "      100   20.893    0.209   20.893    0.209 /var/folders/wb/wgm5x_yj0gd4p4k65fd10vbm0000gn/T/ipykernel_1378/2554180713.py:11(weakref_class_get)\n",
      "      100    0.000    0.000    0.000    0.000 {method 'disable' of '_lsprof.Profiler' objects}\n",
      "\n",
      "\n",
      "\n"
     ]
    }
   ],
   "source": [
    "for _ in range(100):\n",
    "    weakref_class_get(N)\n",
    "weakref_class_get.print_stat()"
   ]
  },
  {
   "cell_type": "code",
   "execution_count": 107,
   "metadata": {},
   "outputs": [],
   "source": [
    "@profile_deco\n",
    "def simple_class_change(N):\n",
    "    for i in range(N):\n",
    "        students[i].assessment.gpa += \" for 2022\"\n",
    "        \n",
    "@profile_deco\n",
    "def slots_class_change(N):\n",
    "    for i in range(N):\n",
    "        students_slots[i].assessment.gpa += \" for 2022\"\n",
    "\n",
    "@profile_deco\n",
    "def weakref_class_change(N):\n",
    "    for i in range(N):\n",
    "        students_weakref[i].assessment.gpa += \" for 2022\""
   ]
  },
  {
   "cell_type": "code",
   "execution_count": 108,
   "metadata": {},
   "outputs": [
    {
     "name": "stdout",
     "output_type": "stream",
     "text": [
      "Число вызовов функции simple_class_change = 1\n",
      "Число вызовов функции simple_class_change = 2\n",
      "Число вызовов функции simple_class_change = 3\n",
      "Число вызовов функции simple_class_change = 4\n",
      "Число вызовов функции simple_class_change = 5\n",
      "Число вызовов функции simple_class_change = 6\n",
      "Число вызовов функции simple_class_change = 7\n",
      "Число вызовов функции simple_class_change = 8\n",
      "Число вызовов функции simple_class_change = 9\n",
      "Число вызовов функции simple_class_change = 10\n",
      "         20 function calls in 5.336 seconds\n",
      "\n",
      "   Ordered by: cumulative time\n",
      "\n",
      "   ncalls  tottime  percall  cumtime  percall filename:lineno(function)\n",
      "       10    5.336    0.534    5.336    0.534 /var/folders/wb/wgm5x_yj0gd4p4k65fd10vbm0000gn/T/ipykernel_1378/2660926481.py:1(simple_class_change)\n",
      "       10    0.000    0.000    0.000    0.000 {method 'disable' of '_lsprof.Profiler' objects}\n",
      "\n",
      "\n",
      "\n"
     ]
    }
   ],
   "source": [
    "for _ in range(10):\n",
    "    simple_class_change(N)\n",
    "simple_class_change.print_stat()"
   ]
  },
  {
   "cell_type": "code",
   "execution_count": 109,
   "metadata": {},
   "outputs": [
    {
     "name": "stdout",
     "output_type": "stream",
     "text": [
      "Число вызовов функции slots_class_change = 1\n",
      "Число вызовов функции slots_class_change = 2\n",
      "Число вызовов функции slots_class_change = 3\n",
      "Число вызовов функции slots_class_change = 4\n",
      "Число вызовов функции slots_class_change = 5\n",
      "Число вызовов функции slots_class_change = 6\n",
      "Число вызовов функции slots_class_change = 7\n",
      "Число вызовов функции slots_class_change = 8\n",
      "Число вызовов функции slots_class_change = 9\n",
      "Число вызовов функции slots_class_change = 10\n",
      "         20 function calls in 3.912 seconds\n",
      "\n",
      "   Ordered by: cumulative time\n",
      "\n",
      "   ncalls  tottime  percall  cumtime  percall filename:lineno(function)\n",
      "       10    3.912    0.391    3.912    0.391 /var/folders/wb/wgm5x_yj0gd4p4k65fd10vbm0000gn/T/ipykernel_1378/2660926481.py:6(slots_class_change)\n",
      "       10    0.000    0.000    0.000    0.000 {method 'disable' of '_lsprof.Profiler' objects}\n",
      "\n",
      "\n",
      "\n"
     ]
    }
   ],
   "source": [
    "for _ in range(10):\n",
    "    slots_class_change(N)\n",
    "slots_class_change.print_stat()"
   ]
  },
  {
   "cell_type": "code",
   "execution_count": 110,
   "metadata": {},
   "outputs": [
    {
     "name": "stdout",
     "output_type": "stream",
     "text": [
      "Число вызовов функции weakref_class_change = 1\n",
      "Число вызовов функции weakref_class_change = 2\n",
      "Число вызовов функции weakref_class_change = 3\n",
      "Число вызовов функции weakref_class_change = 4\n",
      "Число вызовов функции weakref_class_change = 5\n",
      "Число вызовов функции weakref_class_change = 6\n",
      "Число вызовов функции weakref_class_change = 7\n",
      "Число вызовов функции weakref_class_change = 8\n",
      "Число вызовов функции weakref_class_change = 9\n",
      "Число вызовов функции weakref_class_change = 10\n",
      "         20 function calls in 4.490 seconds\n",
      "\n",
      "   Ordered by: cumulative time\n",
      "\n",
      "   ncalls  tottime  percall  cumtime  percall filename:lineno(function)\n",
      "       10    4.490    0.449    4.490    0.449 /var/folders/wb/wgm5x_yj0gd4p4k65fd10vbm0000gn/T/ipykernel_1378/2660926481.py:11(weakref_class_change)\n",
      "       10    0.000    0.000    0.000    0.000 {method 'disable' of '_lsprof.Profiler' objects}\n",
      "\n",
      "\n",
      "\n"
     ]
    }
   ],
   "source": [
    "for _ in range(10):\n",
    "    weakref_class_change(N)\n",
    "weakref_class_change.print_stat()"
   ]
  },
  {
   "cell_type": "code",
   "execution_count": 111,
   "metadata": {},
   "outputs": [],
   "source": [
    "@profile_deco\n",
    "def simple_class_del(N):\n",
    "    for i in range(N):\n",
    "        del students[i].assessment.gpa\n",
    "        \n",
    "@profile_deco\n",
    "def slots_class_del(N):\n",
    "    for i in range(N):\n",
    "        del students_slots[i].assessment.gpa\n",
    "        \n",
    "@profile_deco      \n",
    "def weakref_class_del(N):\n",
    "    for i in range(N):\n",
    "        del students_weakref[i].assessment.gpa"
   ]
  },
  {
   "cell_type": "code",
   "execution_count": 112,
   "metadata": {},
   "outputs": [
    {
     "name": "stdout",
     "output_type": "stream",
     "text": [
      "Число вызовов функции simple_class_del = 1\n",
      "         2 function calls in 0.396 seconds\n",
      "\n",
      "   Ordered by: cumulative time\n",
      "\n",
      "   ncalls  tottime  percall  cumtime  percall filename:lineno(function)\n",
      "        1    0.396    0.396    0.396    0.396 /var/folders/wb/wgm5x_yj0gd4p4k65fd10vbm0000gn/T/ipykernel_1378/3171161610.py:1(simple_class_del)\n",
      "        1    0.000    0.000    0.000    0.000 {method 'disable' of '_lsprof.Profiler' objects}\n",
      "\n",
      "\n",
      "\n",
      "Число вызовов функции slots_class_del = 1\n",
      "         2 function calls in 0.728 seconds\n",
      "\n",
      "   Ordered by: cumulative time\n",
      "\n",
      "   ncalls  tottime  percall  cumtime  percall filename:lineno(function)\n",
      "        1    0.728    0.728    0.728    0.728 /var/folders/wb/wgm5x_yj0gd4p4k65fd10vbm0000gn/T/ipykernel_1378/3171161610.py:6(slots_class_del)\n",
      "        1    0.000    0.000    0.000    0.000 {method 'disable' of '_lsprof.Profiler' objects}\n",
      "\n",
      "\n",
      "\n",
      "Число вызовов функции weakref_class_del = 1\n",
      "         2 function calls in 0.482 seconds\n",
      "\n",
      "   Ordered by: cumulative time\n",
      "\n",
      "   ncalls  tottime  percall  cumtime  percall filename:lineno(function)\n",
      "        1    0.482    0.482    0.482    0.482 /var/folders/wb/wgm5x_yj0gd4p4k65fd10vbm0000gn/T/ipykernel_1378/3171161610.py:11(weakref_class_del)\n",
      "        1    0.000    0.000    0.000    0.000 {method 'disable' of '_lsprof.Profiler' objects}\n",
      "\n",
      "\n",
      "\n"
     ]
    }
   ],
   "source": [
    "simple_class_del(N)\n",
    "simple_class_del.print_stat()\n",
    "\n",
    "slots_class_del(N)\n",
    "slots_class_del.print_stat()\n",
    "\n",
    "weakref_class_del(N)\n",
    "weakref_class_del.print_stat()"
   ]
  }
 ],
 "metadata": {
  "interpreter": {
   "hash": "aee8b7b246df8f9039afb4144a1f6fd8d2ca17a180786b69acc140d282b71a49"
  },
  "kernelspec": {
   "display_name": "Python 3.11.6 64-bit",
   "language": "python",
   "name": "python3"
  },
  "language_info": {
   "codemirror_mode": {
    "name": "ipython",
    "version": 3
   },
   "file_extension": ".py",
   "mimetype": "text/x-python",
   "name": "python",
   "nbconvert_exporter": "python",
   "pygments_lexer": "ipython3",
   "version": "3.11.6"
  },
  "orig_nbformat": 4
 },
 "nbformat": 4,
 "nbformat_minor": 2
}
